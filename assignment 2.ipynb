{
 "cells": [
  {
   "cell_type": "code",
   "execution_count": null,
   "id": "48155550",
   "metadata": {},
   "outputs": [],
   "source": [
    "#Write a lambda expression to extract first word of a string.\n",
    "print(\"\"hello)\n"
   ]
  },
  {
   "cell_type": "markdown",
   "id": "9b33ebe5",
   "metadata": {},
   "source": [
    "# "
   ]
  },
  {
   "cell_type": "code",
   "execution_count": null,
   "id": "f787821d",
   "metadata": {},
   "outputs": [],
   "source": []
  }
 ],
 "metadata": {
  "kernelspec": {
   "display_name": "Python 3",
   "language": "python",
   "name": "python3"
  },
  "language_info": {
   "codemirror_mode": {
    "name": "ipython",
    "version": 3
   },
   "file_extension": ".py",
   "mimetype": "text/x-python",
   "name": "python",
   "nbconvert_exporter": "python",
   "pygments_lexer": "ipython3",
   "version": "3.8.8"
  }
 },
 "nbformat": 4,
 "nbformat_minor": 5
}
