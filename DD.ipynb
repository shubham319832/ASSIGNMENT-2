{
 "cells": [
  {
   "cell_type": "raw",
   "id": "cc4b423e",
   "metadata": {},
   "source": [
    "   # Q1. Write a lambda expression to extract first word of a string.\n"
   ]
  },
  {
   "cell_type": "code",
   "execution_count": 4,
   "id": "1f39d5d3",
   "metadata": {
    "scrolled": true
   },
   "outputs": [
    {
     "data": {
      "text/plain": [
       "'FREE'"
      ]
     },
     "execution_count": 4,
     "metadata": {},
     "output_type": "execute_result"
    }
   ],
   "source": [
    "first_word= lambda a:a.split()[0]\n",
    "first_word(\"FREE MAN IN A FREE WORLD\")"
   ]
  },
  {
   "cell_type": "raw",
   "id": "82fca503",
   "metadata": {},
   "source": [
    "# Q2. Write a function to extract first word of s string (with many words separated by space)"
   ]
  },
  {
   "cell_type": "code",
   "execution_count": 6,
   "id": "0304646d",
   "metadata": {},
   "outputs": [
    {
     "data": {
      "text/plain": [
       "'BURN'"
      ]
     },
     "execution_count": 6,
     "metadata": {},
     "output_type": "execute_result"
    }
   ],
   "source": [
    "def first_word(s):\n",
    "    return s.split()[0]\n",
    "first_word(\"BURN YOUR EGO BEFORE IT BURNS YOU\")"
   ]
  },
  {
   "cell_type": "code",
   "execution_count": null,
   "id": "b36e2c54",
   "metadata": {},
   "outputs": [],
   "source": [
    "Q3. Extract the first word from every string from a list of strings by using map function"
   ]
  },
  {
   "cell_type": "code",
   "execution_count": 8,
   "id": "c86025ad",
   "metadata": {},
   "outputs": [
    {
     "data": {
      "text/plain": [
       "['EVERY', 'this', 'lambda']"
      ]
     },
     "execution_count": 8,
     "metadata": {},
     "output_type": "execute_result"
    }
   ],
   "source": [
    "s=[\"EVERY MASTER WAS ONCE BEGINNER\",\n",
    "  \"this is a list\",\n",
    "  \"lambda function are there\"]\n",
    "def first_word(s):\n",
    "    return s.split()[0]\n",
    "list(map(first_word,s))"
   ]
  },
  {
   "cell_type": "code",
   "execution_count": null,
   "id": "2fb7815a",
   "metadata": {},
   "outputs": [],
   "source": [
    "Q4. Write a function to return a list of prime factors of a given number."
   ]
  },
  {
   "cell_type": "code",
   "execution_count": 11,
   "id": "14d9c6b4",
   "metadata": {},
   "outputs": [
    {
     "data": {
      "text/plain": [
       "[3, 3, 11]"
      ]
     },
     "execution_count": 11,
     "metadata": {},
     "output_type": "execute_result"
    }
   ],
   "source": [
    "def prime(n):#for accepting the number is prime or not\n",
    "    if n==0 or n==1:\n",
    "        return False\n",
    "\n",
    "    else:\n",
    "        for i in range(2,int(n**0.5)+1):\n",
    "            if n%i==0:\n",
    "                return False\n",
    "                break\n",
    "        else:\n",
    "            return True\n",
    "def primefactors(n):#accepte the number and return the prime factor\n",
    "    pfact=[]\n",
    "    i=2\n",
    "    while n>1:\n",
    "        if n%i ==0 and prime(i):\n",
    "            pfact.append(i)\n",
    "            n=n//i\n",
    "        else:\n",
    "            i+=1\n",
    "            \n",
    "    return pfact\n",
    "primefactors(99)"
   ]
  },
  {
   "cell_type": "code",
   "execution_count": null,
   "id": "2255a2a4",
   "metadata": {},
   "outputs": [],
   "source": [
    "Q5. Write a function that finds 2nd largest among 4 numbers (Repetitions are allowed, without sorting)."
   ]
  },
  {
   "cell_type": "code",
   "execution_count": 12,
   "id": "cb75538a",
   "metadata": {},
   "outputs": [
    {
     "name": "stdout",
     "output_type": "stream",
     "text": [
      "Enter any four numbers : 11 222 3333 4444\n",
      "3333\n"
     ]
    }
   ],
   "source": [
    "def secondlarge(l):\n",
    "    new_list=set(l)\n",
    "    new_list.remove(max(new_list))\n",
    "    print(max(new_list))\n",
    "l = [int(i) for i in input(\"Enter any four numbers : \").split()]\n",
    "secondlarge(l)"
   ]
  },
  {
   "cell_type": "code",
   "execution_count": null,
   "id": "c55296c8",
   "metadata": {},
   "outputs": [],
   "source": []
  },
  {
   "cell_type": "code",
   "execution_count": null,
   "id": "3662c4e5",
   "metadata": {},
   "outputs": [],
   "source": []
  }
 ],
 "metadata": {
  "kernelspec": {
   "display_name": "Python 3",
   "language": "python",
   "name": "python3"
  },
  "language_info": {
   "codemirror_mode": {
    "name": "ipython",
    "version": 3
   },
   "file_extension": ".py",
   "mimetype": "text/x-python",
   "name": "python",
   "nbconvert_exporter": "python",
   "pygments_lexer": "ipython3",
   "version": "3.8.8"
  }
 },
 "nbformat": 4,
 "nbformat_minor": 5
}
